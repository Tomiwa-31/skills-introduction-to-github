{
  "nbformat": 4,
  "nbformat_minor": 0,
  "metadata": {
    "colab": {
      "provenance": [],
      "authorship_tag": "ABX9TyOBtAycMUw4difkgA/J/Ytz",
      "include_colab_link": true
    },
    "kernelspec": {
      "name": "python3",
      "display_name": "Python 3"
    },
    "language_info": {
      "name": "python"
    }
  },
  "cells": [
    {
      "cell_type": "markdown",
      "metadata": {
        "id": "view-in-github",
        "colab_type": "text"
      },
      "source": [
        "<a href=\"https://colab.research.google.com/github/Tomiwa-31/skills-introduction-to-github/blob/main/Simple%20chatbot.ipynb\" target=\"_parent\"><img src=\"https://colab.research.google.com/assets/colab-badge.svg\" alt=\"Open In Colab\"/></a>"
      ]
    },
    {
      "cell_type": "code",
      "execution_count": null,
      "metadata": {
        "id": "6X403tlIzddE"
      },
      "outputs": [],
      "source": [
        "import pandas as pd"
      ]
    },
    {
      "cell_type": "code",
      "source": [
        "def simple_chatbot(user_query):\n",
        "  if user_query == \"What is Microsoft Total Revenue\":\n",
        "    return \"Total Revenue for Microsoft is $245,122\"\n",
        "  elif user_query== \"How has net income changed for Apple between 2023 and 2024?\":\n",
        "    return 'The net income decreased by 3% between 2023 1nd 2024'\n",
        "  elif user_query == \"What is the debt-to-asset ratio for Tesla in 2024?\":\n",
        "    return \"The debt to asset ratio for tesla is 40.34\"\n",
        "  else:\n",
        "    return \"I currently don't have  the answer to this question\""
      ],
      "metadata": {
        "id": "QnJYkovMzomN"
      },
      "execution_count": null,
      "outputs": []
    }
  ]
}